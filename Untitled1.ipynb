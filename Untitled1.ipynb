{
 "cells": [
  {
   "cell_type": "code",
   "execution_count": 32,
   "id": "780236ac",
   "metadata": {},
   "outputs": [],
   "source": [
    "paintings = ['The Two Fridas', 'My Dress Hangs Here', 'Tree of Hope', 'Self Portrait With Monkeys']\n",
    "dates = [1939, 1933, 1946, 1940]\n",
    "\n",
    "paintings.append('The Broken Column')\n",
    "paintings.append('The Wounded Deer')\n",
    "paintings.append('ME and My Doll')\n",
    "dates.append(1944)\n",
    "dates.append(1946)\n",
    "dates.append(1937)\n",
    "\n",
    "painting = zip(paintings, dates)"
   ]
  },
  {
   "cell_type": "code",
   "execution_count": 33,
   "id": "ecbaa67d",
   "metadata": {},
   "outputs": [
    {
     "name": "stdout",
     "output_type": "stream",
     "text": [
      "[('The Two Fridas', 1939), ('My Dress Hangs Here', 1933), ('Tree of Hope', 1946), ('Self Portrait With Monkeys', 1940), ('The Broken Column', 1944), ('The Wounded Deer', 1946), ('ME and My Doll', 1937)]\n"
     ]
    }
   ],
   "source": [
    "print(list(painting))"
   ]
  },
  {
   "cell_type": "code",
   "execution_count": 35,
   "id": "f138a6f9",
   "metadata": {},
   "outputs": [
    {
     "data": {
      "text/plain": [
       "7"
      ]
     },
     "execution_count": 35,
     "metadata": {},
     "output_type": "execute_result"
    }
   ],
   "source": [
    "len(paintings)"
   ]
  },
  {
   "cell_type": "code",
   "execution_count": 42,
   "id": "28fce670",
   "metadata": {},
   "outputs": [],
   "source": [
    "audio_tour_number = [i for i in range(1, len(paintings) + 1)]"
   ]
  },
  {
   "cell_type": "code",
   "execution_count": 44,
   "id": "fe9c7718",
   "metadata": {},
   "outputs": [
    {
     "name": "stdout",
     "output_type": "stream",
     "text": [
      "[1, 2, 3, 4, 5, 6, 7]\n"
     ]
    }
   ],
   "source": [
    "print(audio_tour_number)"
   ]
  },
  {
   "cell_type": "code",
   "execution_count": 62,
   "id": "72ec2d89",
   "metadata": {},
   "outputs": [
    {
     "name": "stdout",
     "output_type": "stream",
     "text": [
      "[(1, 'The Two Fridas'), (2, 'My Dress Hangs Here'), (3, 'Tree of Hope'), (4, 'Self Portrait With Monkeys'), (5, 'The Broken Column'), (6, 'The Wounded Deer'), (7, 'ME and My Doll')]\n"
     ]
    }
   ],
   "source": [
    "master_list=list(zip(audio_tour_number, paintings))\n",
    "print(master_list)"
   ]
  },
  {
   "cell_type": "code",
   "execution_count": null,
   "id": "a0097923",
   "metadata": {},
   "outputs": [],
   "source": []
  }
 ],
 "metadata": {
  "kernelspec": {
   "display_name": "Python 3 (ipykernel)",
   "language": "python",
   "name": "python3"
  },
  "language_info": {
   "codemirror_mode": {
    "name": "ipython",
    "version": 3
   },
   "file_extension": ".py",
   "mimetype": "text/x-python",
   "name": "python",
   "nbconvert_exporter": "python",
   "pygments_lexer": "ipython3",
   "version": "3.10.9"
  }
 },
 "nbformat": 4,
 "nbformat_minor": 5
}
